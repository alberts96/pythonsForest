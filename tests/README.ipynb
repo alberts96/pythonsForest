{
 "cells": [
  {
   "cell_type": "code",
   "execution_count": null,
   "metadata": {},
   "outputs": [],
   "source": [
    "# -*- coding: utf-8 -*-\n",
    "\"\"\"\n",
    "Created on Sun Nov  8 15:55:37 2020\n",
    "\n",
    "@author: carlo\n",
    "\"\"\"\n",
    "\n",
    "## Define some function useful for testing\n",
    "import random\n",
    "\n",
    "## generate an array of n random integers up to b\n",
    "def get_random_array(n, b = 50):\n",
    "    return [random.randint(0, b) for _ in range(n)]\n",
    "\n",
    "\n",
    "import BST\n",
    "# Test your implementation here\n",
    "a = get_random_array(30)\n",
    "\n",
    "\n",
    "bst = BST.BinarySearchTree()\n",
    "\n",
    "for x in a: \n",
    "    bst.insert(x)\n",
    "    \n",
    "print(bst)\n",
    "print([x for x in bst.root][:10])\n",
    "    \n",
    "\n",
    "\n",
    "\n",
    "\n",
    "print(bst.max())\n",
    "print(bst.min())\n",
    "\n",
    "print(bst.successor(bst.root.getVal()))\n",
    "print(bst.successor(43))\n",
    "print(bst.root.val)\n",
    "print(bst.predecessor(bst.max()))\n",
    "print(bst.successor(bst.min()))"
   ]
  },
  {
   "cell_type": "markdown",
   "metadata": {},
   "source": [
    "# the python forest\n",
    "A tiny collection of tree based data structures implemented in python. The package allow to print the structures for a concrete visualization. Main use is for larning and didactic purposes.\n",
    "\n",
    "## Tree structures\n",
    "For the moment only the basic Binary Search Tree (BST) is implemented\n",
    "\n"
   ]
  },
  {
   "cell_type": "code",
   "execution_count": null,
   "metadata": {},
   "outputs": [],
   "source": []
  }
 ],
 "metadata": {
  "kernelspec": {
   "display_name": "Python 3",
   "language": "python",
   "name": "python3"
  },
  "language_info": {
   "codemirror_mode": {
    "name": "ipython",
    "version": 3
   },
   "file_extension": ".py",
   "mimetype": "text/x-python",
   "name": "python",
   "nbconvert_exporter": "python",
   "pygments_lexer": "ipython3",
   "version": "3.7.4"
  }
 },
 "nbformat": 4,
 "nbformat_minor": 2
}
